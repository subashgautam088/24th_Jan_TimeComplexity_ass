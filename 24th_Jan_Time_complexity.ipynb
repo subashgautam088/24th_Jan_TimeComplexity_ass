{
 "cells": [
  {
   "cell_type": "markdown",
   "id": "4b1caaae-0384-404a-8f6c-a299970ed1e7",
   "metadata": {},
   "source": [
    "## TIME COMPLEXITY ASSIGNMENT   ##"
   ]
  },
  {
   "cell_type": "code",
   "execution_count": 1,
   "id": "d8a1bdc9-f7ee-48da-893c-a2dcbe1272ee",
   "metadata": {},
   "outputs": [],
   "source": [
    "##   Find time complexity of below code blocks :-\n",
    "##   Problem 1 :\n",
    "\n",
    "\n",
    "def quicksort(arr):\n",
    "\n",
    "    if len(arr) <= 1:\n",
    "\n",
    "        return arr\n",
    "\n",
    "    pivot = arr[len(arr) // 2]\n",
    "\n",
    "    left = [x for x in arr if x < pivot]\n",
    "\n",
    "    middle = [x for x in arr if x == pivot]\n",
    "\n",
    "    right = [x for x in arr if x > pivot]\n",
    "\n",
    "    return quicksort(left) + middle + quicksort(right)\n",
    "# Time complexity = O(n^2)"
   ]
  },
  {
   "cell_type": "code",
   "execution_count": 2,
   "id": "8e1a4b45-0b51-4e85-888e-8a8480a3969a",
   "metadata": {},
   "outputs": [],
   "source": [
    "##  Problem 2 :\n",
    "\n",
    "\n",
    "def nested_loop_example(matrix):\n",
    "\n",
    "    rows, cols = len(matrix), len(matrix[0])\n",
    "\n",
    "    total = 0\n",
    "\n",
    "    for i in range(rows):\n",
    "\n",
    "        for j in range(cols):\n",
    "\n",
    "            total += matrix[i][j]\n",
    "\n",
    "    return total\n",
    "\n",
    "# Time complexity = O(n^2)"
   ]
  },
  {
   "cell_type": "code",
   "execution_count": 3,
   "id": "337027cd-d88a-4fdc-89e8-0ded2afbfeee",
   "metadata": {},
   "outputs": [],
   "source": [
    "##   Problem 3 :\n",
    "\n",
    "\n",
    "def example_function(arr):\n",
    "\n",
    "    result = 0\n",
    "\n",
    "    for element in arr:\n",
    "\n",
    "        result += element\n",
    "\n",
    "    return result\n",
    "\n",
    "# Time complexity = O(n)"
   ]
  },
  {
   "cell_type": "code",
   "execution_count": 4,
   "id": "e8bb512e-54b7-4d06-9e39-314633a9ca00",
   "metadata": {},
   "outputs": [],
   "source": [
    "##  Problem 4 :\n",
    "\n",
    "\n",
    "def longest_increasing_subsequence(nums):\n",
    "\n",
    "    n = len(nums)\n",
    "\n",
    "    lis = [1] * n\n",
    "\n",
    "    for i in range(1, n):\n",
    "\n",
    "        for j in range(0, i):\n",
    "\n",
    "            if nums[i] > nums[j] and lis[i] < lis[j] + 1:\n",
    "\n",
    "                lis[i] = lis[j] + 1\n",
    "\n",
    "    return max(lis)\n",
    "\n",
    "# Time complexity = O(n^2)"
   ]
  },
  {
   "cell_type": "code",
   "execution_count": 5,
   "id": "87d30105-63e0-4305-9935-bc1b6c215bdd",
   "metadata": {},
   "outputs": [],
   "source": [
    "##   Problem 5 :\n",
    "\n",
    "def mysterious_function(arr):\n",
    "\n",
    "    n = len(arr)\n",
    "\n",
    "    result = 0\n",
    "\n",
    "    for i in range(n):\n",
    "\n",
    "        for j in range(i, n):\n",
    "\n",
    "            result += arr[i] * arr[j]\n",
    "\n",
    "    return result\n",
    "\n",
    "# Time complexity = O(n^2)"
   ]
  },
  {
   "cell_type": "markdown",
   "id": "900e570a-7533-49c4-b043-43ba02de2a10",
   "metadata": {},
   "source": [
    "#  Solve the following problems on recursion"
   ]
  },
  {
   "cell_type": "code",
   "execution_count": 7,
   "id": "8c442cb5-d264-436d-abd5-02aa906492d3",
   "metadata": {},
   "outputs": [
    {
     "name": "stdout",
     "output_type": "stream",
     "text": [
      "The sum of the digits of the given positive integer  6\n"
     ]
    }
   ],
   "source": [
    "#  Problem 6 : Sum of Digits\n",
    "# Write a recursive function to calculate the sum of digits of a given positive integer. Sum_of_digits(123) -> 6\n",
    "digits = 123\n",
    "def Sum_of_digits(digits):\n",
    "    sum_digits = 0\n",
    "    if digits < 10 :\n",
    "        return digits\n",
    "    else:\n",
    "        nums = digits % 10\n",
    "        sum_digits += nums\n",
    "        value = digits // 10\n",
    "        return sum_digits + Sum_of_digits(value)\n",
    "    \n",
    "result = Sum_of_digits(digits)\n",
    "print(\"The sum of the digits of the given positive integer \", result)"
   ]
  },
  {
   "cell_type": "code",
   "execution_count": 8,
   "id": "e20e2a15-70ae-45ed-97fe-d48bc6445235",
   "metadata": {},
   "outputs": [
    {
     "name": "stdout",
     "output_type": "stream",
     "text": [
      "The first 6 numbers of the fibonacci series  [0, 1, 1, 2, 3, 5]\n"
     ]
    }
   ],
   "source": [
    "##  Problem 7: Fibonacci Series\n",
    "\n",
    "\n",
    "# Write a recursive function to generate the first n numbers of the Fibonacci series.Fibonacci_series(6) -> [0, 1, 1, 2, 3, 5\n",
    "num  = 6\n",
    "def fibonacci_series(num):\n",
    "    if num <= 0 :\n",
    "        return []\n",
    "    elif num == 1:\n",
    "        return [0]\n",
    "    elif num == 2:\n",
    "        return [0,1]\n",
    "    else:\n",
    "        fib_series =  fibonacci_series(num - 1)\n",
    "        fib_series.append(fib_series[-1] + fib_series[-2])\n",
    "        return fib_series\n",
    "    \n",
    "result = fibonacci_series(num)\n",
    "print(\"The first\", num ,\"numbers of the fibonacci series \",result)"
   ]
  },
  {
   "cell_type": "code",
   "execution_count": 9,
   "id": "abb416a3-c06e-41e3-b4a9-d31ef62fbf3c",
   "metadata": {},
   "outputs": [
    {
     "name": "stdout",
     "output_type": "stream",
     "text": [
      "subset_sum([3, 34, 4, 12, 5, 2], 9) -> True\n"
     ]
    }
   ],
   "source": [
    "##  Problem 8 : Subset Sum\n",
    "# Given a set of positive integers and a target sum, write a recursive function to determine if there exists a subset of the integers that adds up to the target sum. Subset_sum([3, 34, 4, 12, 5, 2], 9) -> Tru\n",
    "def subset_sum(nums, target):\n",
    "    # Base cases\n",
    "    if target == 0:\n",
    "        return True\n",
    "    if not nums or target < 0:\n",
    "        return False\n",
    "    \n",
    "    # Recursive cases\n",
    "    # Either include the last element in the subset and recursively check\n",
    "    # if the remaining elements can form the remaining sum\n",
    "    include_last = subset_sum(nums[:-1], target - nums[-1])\n",
    "    # Or exclude the last element and recursively check\n",
    "    # if the remaining elements can form the target sum\n",
    "    exclude_last = subset_sum(nums[:-1], target)\n",
    "    \n",
    "    # Return True if either including or excluding the last element can\n",
    "    # form the target sum\n",
    "    return include_last or exclude_last\n",
    "\n",
    "# Test the function\n",
    "result = subset_sum([3, 34, 4, 12, 5, 2], 9)\n",
    "print(\"subset_sum([3, 34, 4, 12, 5, 2], 9) ->\", result)"
   ]
  },
  {
   "cell_type": "code",
   "execution_count": 10,
   "id": "ed236243-62cf-48cb-9376-b9cbbe1e4cc4",
   "metadata": {},
   "outputs": [
    {
     "name": "stdout",
     "output_type": "stream",
     "text": [
      "word_break('leetcode', ['leet', 'code']) -> True\n"
     ]
    }
   ],
   "source": [
    "##  Problem 9: Word Break\n",
    "# Given a non-empty string and a dictionary of words, write a recursive function to determine if the string can be segmented into a space-separated sequence of dictionary words.Word_break( leetcode , [ leet , code ]) -> True\n",
    "def word_break(s, wordDict):\n",
    "    # Base case: if the string is empty, return True\n",
    "    if not s:\n",
    "        return True\n",
    "    \n",
    "    # Check if the current prefix of the string is present in the dictionary\n",
    "    for i in range(1, len(s) + 1):\n",
    "        prefix = s[:i]\n",
    "        if prefix in wordDict:\n",
    "            # If the prefix is in the dictionary, recursively check\n",
    "            # if the remaining suffix of the string can be segmented\n",
    "            if word_break(s[i:], wordDict):\n",
    "                return True\n",
    "    \n",
    "    # If none of the prefixes can be found in the dictionary, return False\n",
    "    return False\n",
    "\n",
    "# Test the function\n",
    "result = word_break(\"leetcode\", [\"leet\", \"code\"])\n",
    "print(\"word_break('leetcode', ['leet', 'code']) ->\", result)"
   ]
  },
  {
   "cell_type": "code",
   "execution_count": 11,
   "id": "8eb26db4-0fb3-4d59-8e94-d7ae2a348997",
   "metadata": {},
   "outputs": [
    {
     "name": "stdout",
     "output_type": "stream",
     "text": [
      "Solution 1:\n",
      ".Q..\n",
      "...Q\n",
      "Q...\n",
      "..Q.\n",
      "\n",
      "Solution 2:\n",
      "..Q.\n",
      "Q...\n",
      "...Q\n",
      ".Q..\n",
      "\n"
     ]
    }
   ],
   "source": [
    "##  Problem 10 : N-Queens\n",
    "\n",
    "\n",
    "# Implement a recursive function to solve the N Queens problem, where you have to place N queens on an N×N chessboard in such a way that no two queens threaten each other. n_queens(4)\n",
    "\n",
    "'''[\n",
    "\n",
    " [\".Q..\",\n",
    "\n",
    "  \"...Q\",\n",
    "\n",
    "  \"Q...\",\n",
    "\n",
    "  \"..Q.\"],\n",
    "\n",
    " [\"..Q.\",\n",
    "\n",
    "  \"Q...\",\n",
    "\n",
    "  \"...Q\",\n",
    "\n",
    "  \".Q..\"]\n",
    "\n",
    "]'''\n",
    "\n",
    "\n",
    "def is_safe(board, row, col, n):\n",
    "    # Check if there is a queen in the same column\n",
    "    for i in range(row):\n",
    "        if board[i][col] == 'Q':\n",
    "            return False\n",
    "    \n",
    "    # Check upper left diagonal\n",
    "    for i, j in zip(range(row, -1, -1), range(col, -1, -1)):\n",
    "        if board[i][j] == 'Q':\n",
    "            return False\n",
    "    \n",
    "    # Check upper right diagonal\n",
    "    for i, j in zip(range(row, -1, -1), range(col, n)):\n",
    "        if board[i][j] == 'Q':\n",
    "            return False\n",
    "    \n",
    "    return True\n",
    "\n",
    "def solve_n_queens(n):\n",
    "    def backtrack(board, row):\n",
    "        # Base case: if all queens are placed, append the current configuration to the result\n",
    "        if row == n:\n",
    "            result.append([\"\".join(row) for row in board])\n",
    "            return\n",
    "        \n",
    "        for col in range(n):\n",
    "            if is_safe(board, row, col, n):\n",
    "                # Place queen\n",
    "                board[row][col] = 'Q'\n",
    "                # Recur to place remaining queens\n",
    "                backtrack(board, row + 1)\n",
    "                # Backtrack\n",
    "                board[row][col] = '.'\n",
    "    \n",
    "    # Initialize the board\n",
    "    board = [['.' for _ in range(n)] for _ in range(n)]\n",
    "    result = []\n",
    "    # Start with the first row\n",
    "    backtrack(board, 0)\n",
    "    return result\n",
    "\n",
    "# Test the function\n",
    "n = 4\n",
    "result = solve_n_queens(n)\n",
    "for i, solution in enumerate(result):\n",
    "    print(f\"Solution {i+1}:\")\n",
    "    for row in solution:\n",
    "        print(row)\n",
    "    print()"
   ]
  },
  {
   "cell_type": "code",
   "execution_count": null,
   "id": "06d849ef-e149-422a-9de1-30cde1f12e80",
   "metadata": {},
   "outputs": [],
   "source": []
  }
 ],
 "metadata": {
  "kernelspec": {
   "display_name": "Python 3 (ipykernel)",
   "language": "python",
   "name": "python3"
  },
  "language_info": {
   "codemirror_mode": {
    "name": "ipython",
    "version": 3
   },
   "file_extension": ".py",
   "mimetype": "text/x-python",
   "name": "python",
   "nbconvert_exporter": "python",
   "pygments_lexer": "ipython3",
   "version": "3.10.8"
  }
 },
 "nbformat": 4,
 "nbformat_minor": 5
}
